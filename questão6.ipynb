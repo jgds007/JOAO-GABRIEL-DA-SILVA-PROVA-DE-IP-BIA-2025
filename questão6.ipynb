{
 "cells": [
  {
   "cell_type": "code",
   "execution_count": null,
   "id": "e795fff3",
   "metadata": {},
   "outputs": [],
   "source": [
    "# QUESTÃO 06\n",
    "# ALUNO: JOAO GABRIEL DA SILVA, MATRICULA 202504009"
   ]
  },
  {
   "cell_type": "code",
   "execution_count": null,
   "id": "3d4a21a3",
   "metadata": {},
   "outputs": [],
   "source": [
    "# QUESTÃO 06\n",
    "# ALUNO: JOAO GABRIEL DA SILVA, MATRICULA 202504009\n",
    "# Não feita"
   ]
  }
 ],
 "metadata": {
  "language_info": {
   "name": "python"
  }
 },
 "nbformat": 4,
 "nbformat_minor": 5
}
