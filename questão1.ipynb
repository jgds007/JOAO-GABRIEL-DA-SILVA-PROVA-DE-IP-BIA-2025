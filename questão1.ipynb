{
 "cells": [
  {
   "cell_type": "code",
   "execution_count": null,
   "id": "8d2de50d",
   "metadata": {},
   "outputs": [],
   "source": [
    "# QUESTÃO 01\n",
    "# ALUNO: JOAO GABRIEL DA SILVA, MATRICULA 202504009"
   ]
  },
  {
   "cell_type": "code",
   "execution_count": null,
   "id": "955f9064",
   "metadata": {},
   "outputs": [
    {
     "name": "stdout",
     "output_type": "stream",
     "text": [
      "A resposta não e um numero valido. Por favor, tente novamente.\n",
      "\n",
      "\n",
      "\n"
     ]
    }
   ],
   "source": [
    "# QUESTÃO 1A + 1B\n",
    "# ALUNO: JOAO GABRIEL DA SILVA, MATRICULA 202504009\n",
    "\n",
    "#OBS: professor talves o quando você executar os codigo os inputs vão aparecer na area de keybinding do arquivo não sei porque ate agora isso acontece\n",
    "#Mas os print são exibidos embaixo da celula. So prara você não acabar ficando preso num loop de digitação infinito.\n",
    "\n",
    "while True: #Com um ciclo while e possivel criar um ambiente de repetição infinita ate que a condição seja atendida\n",
    "    try:\n",
    "        pott = float(input(\"Digite o valor da potencia do seu aparelho em kW (Ex: 1.2): \"))\n",
    "        break # aqui tenta transformar a resposta em um float utilizando o float() e logo apos o loop e quebrado e encerrado.\n",
    "    except ValueError:\n",
    "        print(\"A resposta não e um número válido. Por favor, tente novamente.\")\n",
    "        print(\"\")\n",
    "        # se a resposta não for possivel ser convertida para um float e gerado um valueError , o except e ativado para o tratamento de erro. Assim exibindo uma mensagem de erro e o loop recomeça.\n",
    "print(\"\")\n",
    "\n",
    "dia = 24 #limete de horas em um dia\n",
    "\n",
    "while True: #Com um ciclo while e possivel criar um ambiente de repetição infinita ate que a condição seja atendida\n",
    "    try:\n",
    "        hr =  int(input(\"Digite a quantidade de horas que o aparelho e utilizado em um periodo de 24 horas: \"))\n",
    "        # aqui o usuario digita um valor que represente as horas de uso do aparelho dentro de um dia\n",
    "        if hr < dia: #a condicional verifica se o valor e valido para um periodo de 24 horas (duração de 1 dia)\n",
    "           break # se a condição for atendida o valor e salvo e o loop e encerrado.\n",
    "        else: # se o valor não atender a condicional e impressa uma mensagem de erro e o loop e reiniciado.\n",
    "            print(\"Número invalido. Por favor digite um numero entre 0 a 24 horas.\")\n",
    "            print(\"\")\n",
    "    except ValueError: \n",
    "        print(\"A resposta não e um número válido. Por favor, tente novamente.\")\n",
    "        print(\"\")\n",
    "        #aqui e realizado um tratamento de erro com a mesma logica de funcionamento do except ValueError anterior, mas a diferença e que o a conversão e feita para um numero inteiro com int(), mas se não for possivel, e realizado o tratamento do erro e uma mensagem de erro e exibida e o loop reinicia.\n",
    "print(\"\")"
   ]
  },
  {
   "cell_type": "code",
   "execution_count": null,
   "id": "07ef1a6a",
   "metadata": {},
   "outputs": [],
   "source": [
    "# QUESTÃO 1B\n",
    "# ALUNO: JOAO GABRIEL DA SILVA, MATRICULA 202504009\n",
    "\n",
    "#respondida no bloco anterior"
   ]
  },
  {
   "cell_type": "code",
   "execution_count": 12,
   "id": "59ffefcc",
   "metadata": {},
   "outputs": [],
   "source": [
    "# QUESTÃO 1C\n",
    "# ALUNO: JOAO GABRIEL DA SILVA, MATRICULA 202504009\n",
    "\n",
    "#criando uma função que calcula o consumo mensal de kwh de um aparelho durante 30 dias.\n",
    "\n",
    "def calcular_consumo_mensal(pot, horas): #pot e a potencia do aparaelho em kw e horas são as horas de utilização do aparelho em um periodo de 24 horas.\n",
    "    x = pot # potencia do aparelho em kW\n",
    "    y = horas # horas de uso do aparelho em um periodo de 24 horas\n",
    "    consu_men = (x * y) * 30 #aqui e realisado o calculo do consumo mensal onde o consumo diario (x * y) e multiplicado pelo periodo de 1 mes ( 30 dias)\n",
    "    consu_men_a = round(consu_men, 2) # aqui nos arrendodamos o resultado do consumo mensal para uma melhor visualização das informações obtidas (não seria legal trabalhar com numeros que possuem virgula e são gigantes como uma dizima.)\n",
    "\n",
    "    return consu_men_a #essa função retorna o valor do consumo mensal depois do arredondamento de seu valor original."
   ]
  },
  {
   "cell_type": "code",
   "execution_count": 13,
   "id": "1471c2a4",
   "metadata": {},
   "outputs": [
    {
     "name": "stdout",
     "output_type": "stream",
     "text": [
      "O consumo mensal de energia do aparelho e de 3600.0 kWh \n",
      "\n",
      "potencia \t horas \t consumo de energia mensal\n",
      "10.0 Kw 2\t 12 horas \t 3600.0 kWh\n"
     ]
    }
   ],
   "source": [
    "# QUESTÃO 1D\n",
    "# ALUNO: JOAO GABRIEL DA SILVA, MATRICULA 202504009\n",
    "\n",
    "cme = calcular_consumo_mensal(pott, hr) #utilizamos a função criada anteriormente para calcular o valor do consumo de energia mensal de um aparelho.\n",
    "\n",
    "print(f\"O consumo mensal de energia do aparelho e de {cme} kWh \") #aqui e exibida uma mensagem simples do consumo de energia mensal do aparelho\n",
    "print(\"\")\n",
    "print(\"potencia\", '\\t',\"horas\", '\\t',\"consumo de energia mensal\") # Aqui são exibidas todas as informações coletadas anteriormente e são exibidas na seguinte\n",
    "print(pott,'Kw', '2\\t', hr, 'horas', '\\t', cme, 'kWh') #ordem: potencia do aparelho, horas de uso do aparelho, o consumo de energia mensal do aparelho. \n"
   ]
  }
 ],
 "metadata": {
  "kernelspec": {
   "display_name": "Python 3",
   "language": "python",
   "name": "python3"
  },
  "language_info": {
   "codemirror_mode": {
    "name": "ipython",
    "version": 3
   },
   "file_extension": ".py",
   "mimetype": "text/x-python",
   "name": "python",
   "nbconvert_exporter": "python",
   "pygments_lexer": "ipython3",
   "version": "3.13.3"
  }
 },
 "nbformat": 4,
 "nbformat_minor": 5
}
